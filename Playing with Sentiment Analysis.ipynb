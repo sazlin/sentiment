{
 "metadata": {
  "name": "",
  "signature": "sha256:76059e91c24411a6ab7d54dde67c3fa4508de9e351f7dc22b2fd921b533b68b4"
 },
 "nbformat": 3,
 "nbformat_minor": 0,
 "worksheets": [
  {
   "cells": [
    {
     "cell_type": "code",
     "collapsed": false,
     "input": [
      "from IPython import parallel\n",
      "\n",
      "%px import numpy as np\n",
      "%px from sklearn.datasets import fetch_20newsgroups_vectorized\n",
      "%px from sklearn.naive_bayes import MultinomialNB as MNB\n",
      "%px from sklearn.cross_validation import cross_val_score\n",
      "\n",
      "def check_results(alphas, results):\n",
      "    best = None\n",
      "    best_idx = None\n",
      "    for idx, res in enumerate(results):\n",
      "        if res > best:\n",
      "            best = res\n",
      "            best_idx = idx\n",
      "    return alphas[best_idx]\n",
      "\n",
      "def get_MNB_with_alpha(alpha):\n",
      "    data = fetch_20newsgroups_vectorized(\n",
      "        remove=('headers', 'footers', 'quotes')\n",
      "    )\n",
      "    clf = MNB(alpha)\n",
      "    return np.mean(cross_val_score(clf, data.data, data.target, cv=10))\n",
      "\n",
      "def calculate_results():\n",
      "    alphas = [1E-4, 1E-3, 1E-2, 1E-1]\n",
      "    clients = parallel.Client()\n",
      "    clients.block = True\n",
      "    lview = clients.load_balanced_view()\n",
      "    results = lview.map(get_MNB_with_alpha, alphas)\n",
      "    return check_results(alphas, results)\n",
      "\n",
      "print calculate_results()"
     ],
     "language": "python",
     "metadata": {},
     "outputs": [
      {
       "output_type": "stream",
       "stream": "stdout",
       "text": [
        "0.001\n"
       ]
      }
     ],
     "prompt_number": 12
    },
    {
     "cell_type": "code",
     "collapsed": false,
     "input": [],
     "language": "python",
     "metadata": {},
     "outputs": []
    }
   ],
   "metadata": {}
  }
 ]
}